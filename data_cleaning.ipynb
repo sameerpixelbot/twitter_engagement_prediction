{
 "cells": [
  {
   "cell_type": "code",
   "execution_count": null,
   "metadata": {},
   "outputs": [],
   "source": [
    "def get_tweet_csv(days=3):\n",
    "    \n",
    "    import pandas as pd\n",
    "    import glob\n",
    "    import datetime as dt\n",
    "\n",
    "    #path of files\n",
    "    data_path='F:/twitter_data/twitter_users_data'\n",
    "\n",
    "    #list of files\n",
    "    all_files = glob.glob(data_path + \"/*.csv\")\n",
    "\n",
    "    #empty list for collecting dataframes\n",
    "    li = []\n",
    "\n",
    "    for filename in all_files:\n",
    "\n",
    "        #made dataframe for the file\n",
    "        df = pd.read_csv(filename, index_col=None, header=0)\n",
    "        #extracted date of the file\n",
    "        date=filename[-14:-4]\n",
    "        #made date obj of the day tweets were extracted\n",
    "        date=dt.datetime.strptime(date,'%Y-%m-%d').date()\n",
    "        #changed it to the date on which tweets were tweeted\n",
    "        date=date-dt.timedelta(days=days)\n",
    "        #converting date to day of year\n",
    "        df['day_year']=int(date.strftime('%j'))\n",
    "        li.append(df)\n",
    "\n",
    "    frame = pd.concat(li, axis=0, ignore_index=True)\n",
    "    \n",
    "    return(frame)"
   ]
  }
 ],
 "metadata": {
  "kernelspec": {
   "display_name": "Python 3",
   "language": "python",
   "name": "python3"
  },
  "language_info": {
   "codemirror_mode": {
    "name": "ipython",
    "version": 3
   },
   "file_extension": ".py",
   "mimetype": "text/x-python",
   "name": "python",
   "nbconvert_exporter": "python",
   "pygments_lexer": "ipython3",
   "version": "3.7.4"
  }
 },
 "nbformat": 4,
 "nbformat_minor": 2
}
