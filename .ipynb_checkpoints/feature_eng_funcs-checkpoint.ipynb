{
 "cells": [
  {
   "cell_type": "code",
   "execution_count": 1,
   "metadata": {},
   "outputs": [],
   "source": [
    "#function to get tweet score\n",
    "def engage_score(likes,retweets,replies,followers):\n",
    "    \n",
    "    import numpy as np\n",
    "    #weights for likes,retweets,replies\n",
    "    l,rt,rp,f=1,2,3,2\n",
    "    num=l*np.log2(likes+8)+rt*np.log2(retweets+4)+rp*np.log2(replies+2)\n",
    "    den=f*np.log10(followers+500+np.random.randint((followers+500)*0.1,(followers+500)*0.2))\n",
    "    return(num/(den+1))"
   ]
  },
  {
   "cell_type": "code",
   "execution_count": 2,
   "metadata": {},
   "outputs": [],
   "source": [
    "#function to get followers count\n",
    "def get_followers_dict():\n",
    "\n",
    "    import tweepy\n",
    "    auth_path='E:/twitter_data/twitter_home_data/auth.txt'\n",
    "\n",
    "    with open(auth_path,'r') as f:\n",
    "        auth=f.read()\n",
    "    #auth details\n",
    "    auth=auth.split(',')\n",
    "\n",
    "    auth_details=tweepy.OAuthHandler(auth[0],auth[1])\n",
    "    auth_details.set_access_token(auth[2],auth[3])\n",
    "\n",
    "    api=tweepy.API(auth_details)\n",
    "    #list of members\n",
    "    mems=df_tweets.groupby('screen_name').count().index\n",
    "    mems=list(mems)\n",
    "\n",
    "    user_foll={}\n",
    "    for name in mems:\n",
    "        print(name)\n",
    "        user_foll[name]=api.get_user(id=name).followers_count\n",
    "    #dictionary of member:followers pair\n",
    "    return(user_foll)"
   ]
  }
 ],
 "metadata": {
  "kernelspec": {
   "display_name": "Python 3",
   "language": "python",
   "name": "python3"
  },
  "language_info": {
   "codemirror_mode": {
    "name": "ipython",
    "version": 3
   },
   "file_extension": ".py",
   "mimetype": "text/x-python",
   "name": "python",
   "nbconvert_exporter": "python",
   "pygments_lexer": "ipython3",
   "version": "3.7.6"
  }
 },
 "nbformat": 4,
 "nbformat_minor": 4
}
