{
 "cells": [
  {
   "cell_type": "code",
   "execution_count": null,
   "metadata": {},
   "outputs": [],
   "source": [
    "from ipynb.fs.full.data_cleaning import get_tweet_csv,get_bert_emb_csv"
   ]
  },
  {
   "cell_type": "code",
   "execution_count": null,
   "metadata": {},
   "outputs": [],
   "source": [
    "df_tweets=get_tweet_csv()\n",
    "df_pools=get_bert_emb_csv()\n",
    "df_pools.drop('Unnamed: 0',axis=1,inplace=True)"
   ]
  },
  {
   "cell_type": "code",
   "execution_count": null,
   "metadata": {},
   "outputs": [],
   "source": [
    "def engage_score(likes,retweets,replies,followers):\n",
    "    \n",
    "    l,rt,rp,f=1,2,3,2\n",
    "    num=l*np.log2(likes+8)+rt*np.log2(retweets+4)+rp*np.log2(replies+2)\n",
    "    den=f*np.log10(followers+500+np.random.randint((followers+500)*0.1,(followers+500)*0.2))\n",
    "    return(num/(den+1))"
   ]
  },
  {
   "cell_type": "code",
   "execution_count": null,
   "metadata": {},
   "outputs": [],
   "source": [
    "import tweepy\n",
    "auth_path='E:/twitter_data/twitter_home_data/auth.txt'\n",
    "\n",
    "with open(auth_path,'r') as f:\n",
    "    auth=f.read()\n",
    "\n",
    "auth=auth.split(',')\n",
    "\n",
    "auth_details=tweepy.OAuthHandler(auth[0],auth[1])\n",
    "auth_details.set_access_token(auth[2],auth[3])\n",
    "\n",
    "api=tweepy.API(auth_details)\n",
    "\n",
    "mems=df_tweets.groupby('screen_name').count().index\n",
    "mems=list(mems)\n",
    "\n",
    "user_foll={}\n",
    "for name in mems:\n",
    "    print(name)\n",
    "    user_foll[name]=api.get_user(id=name).followers_count\n",
    "\n",
    "df_tweets['followers']=df_tweets['screen_name'].apply(lambda name:user_foll[name])"
   ]
  },
  {
   "cell_type": "code",
   "execution_count": null,
   "metadata": {},
   "outputs": [],
   "source": [
    "df_tweets['score']=df_tweets.apply(lambda tweet:engage_score(tweet.likes,tweet.retweets,tweet.replies,tweet.followers),axis=1)"
   ]
  },
  {
   "cell_type": "code",
   "execution_count": null,
   "metadata": {},
   "outputs": [],
   "source": []
  }
 ],
 "metadata": {
  "kernelspec": {
   "display_name": "Python 3",
   "language": "python",
   "name": "python3"
  },
  "language_info": {
   "codemirror_mode": {
    "name": "ipython",
    "version": 3
   },
   "file_extension": ".py",
   "mimetype": "text/x-python",
   "name": "python",
   "nbconvert_exporter": "python",
   "pygments_lexer": "ipython3",
   "version": "3.7.6"
  }
 },
 "nbformat": 4,
 "nbformat_minor": 4
}
