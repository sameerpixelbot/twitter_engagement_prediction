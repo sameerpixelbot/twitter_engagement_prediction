{
 "cells": [
  {
   "cell_type": "code",
   "execution_count": 1,
   "metadata": {},
   "outputs": [
    {
     "name": "stdout",
     "output_type": "stream",
     "text": [
      "MKBHD,tldtoday,austinnotduncan,LinusTech,ZacksJerryRig,Dimitry49,linusgsebastian,Dave2D,UnboxTherapy,xeetechcare,EveryApplePro,ijustine,theMrMobile,Jon4Lakers,SuperSaf,Mrwhosetheboss,UrAvgConsumer,eberantony,UniverseIce,BenGeskin,OnLeaks,Slashleaks,MaxWinebach,MaxJmb,RODENT950,markgurman,evleaks,UltraLinx,This1isTakenNow,SnazzyQ,TailosiveTech,xdadevelopers,DetroitBORG,macmixing,booredatwork,verge,beebomco,phonebuff,jacobytm01,JoshuaSarpong7,LeviGuyan,pegasaie,TechDevotedYT,Miranddaa19,ishanagarwal24,AlvinZahran,vamsiexplores,RealBrandonYeo,thertx69,ericxtsen,AndroidAuth,Tate_del_olmo,69PARADOX69,dbrand,NikiasMolina,ShrtCrctYT,hardwarecanucks,CamBunton,iPhonedo,thisistechtoday,zollotech,Vyyyper,NBTJacklyn,anshelsag,TheHacker894,ZONEofTECH,LukeMiani,reneritchie,DurvidImel,DailyTekk,theunlockr,BrandonMiniman,jakkuh_t,\n",
      "Do you want to add an user to your record? yes\n",
      "Please enter user, if you want to end press 0 AlvinZahran\n",
      "The user is alredy in the list 😅\n",
      "Please enter user, if you want to end press 0 AlvinZahran\n",
      "The user is alredy in the list 😅\n",
      "Please enter user, if you want to end press 0 GJNA16\n",
      "Please enter user, if you want to end press 0 techner42204397\n",
      "Please enter user, if you want to end press 0 DSCCRoss\n",
      "Please enter user, if you want to end press 0 DSCCRoss\n",
      "The user is alredy in the list 😅\n",
      "Please enter user, if you want to end press 0 Mobile_Dom\n",
      "Please enter user, if you want to end press 0 SamMobiles\n",
      "Please enter user, if you want to end press 0 frankie_tech\n",
      "Please enter user, if you want to end press 0 AbhayG1299\n",
      "Please enter user, if you want to end press 0 geekyranjit\n",
      "Please enter user, if you want to end press 0 AmreliaRuhez\n",
      "Please enter user, if you want to end press 0 Tyler_Mo786\n",
      "Please enter user, if you want to end press 0 mrjlwilliams\n",
      "Please enter user, if you want to end press 0 Gautam_Thapar\n",
      "Please enter user, if you want to end press 0 techdroider\n",
      "Please enter user, if you want to end press 0 JunoTecho\n",
      "Please enter user, if you want to end press 0 0\n",
      "Thank you plese enter later 😉\n"
     ]
    }
   ],
   "source": [
    "#function to add users\n",
    "\n",
    "def add_users():\n",
    "    \n",
    "    with open('F:/twitter_data/twitter_users_data/users.txt','r') as f:\n",
    "        users_list=f.read()\n",
    "        \n",
    "    print(users_list)\n",
    "    users_list=users_list.split(',')[:-1]\n",
    "\n",
    "    with open('F:/twitter_data/twitter_users_data/users.txt','a+') as f:\n",
    "        \n",
    "        decision=input('Do you want to add an user to your record? ')\n",
    "    \n",
    "        if decision.lower()=='yes':\n",
    "        \n",
    "            key=1\n",
    "            while(key==1):\n",
    "            \n",
    "                user=input('Please enter user, if you want to end press 0 ')\n",
    "            \n",
    "                if user!='0':\n",
    "                \n",
    "                    if user not in users_list:\n",
    "                    \n",
    "                        f.write(user+',')\n",
    "                        users_list.append(user)\n",
    "                    else:\n",
    "                        print('The user is alredy in the list 😅')\n",
    "                else:\n",
    "                    key=0\n",
    "                    print('Thank you plese enter later 😉')\n",
    "                \n",
    "\n",
    "        else:\n",
    "            print('Thank you plese enter later 😉')\n",
    "\n",
    "add_users()"
   ]
  },
  {
   "cell_type": "code",
   "execution_count": null,
   "metadata": {},
   "outputs": [],
   "source": []
  }
 ],
 "metadata": {
  "kernelspec": {
   "display_name": "Python 3",
   "language": "python",
   "name": "python3"
  },
  "language_info": {
   "codemirror_mode": {
    "name": "ipython",
    "version": 3
   },
   "file_extension": ".py",
   "mimetype": "text/x-python",
   "name": "python",
   "nbconvert_exporter": "python",
   "pygments_lexer": "ipython3",
   "version": "3.7.4"
  }
 },
 "nbformat": 4,
 "nbformat_minor": 2
}
